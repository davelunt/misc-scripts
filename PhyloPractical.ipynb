{
 "metadata": {
  "name": "PhyloPractical"
 },
 "nbformat": 3,
 "nbformat_minor": 0,
 "worksheets": [
  {
   "cells": [
    {
     "cell_type": "markdown",
     "metadata": {},
     "source": [
      "<h1><font color='Purple'>Don't Panic</font></h1>\n",
      "<strong>Douglas Adams, 1952 - 2001</strong><br>\n",
      "<h2><font color='DodgerBlue'>Introduction to Jupyter Notebook</font></h2>\n",
      "\n",
      "<hr>\n",
      "<span style=\"color:black; font-family:Arial; font-size:1.3em;line-height: 2;\">  \n",
      "This is a **Jupyter Notebook**. It is a web browser based text editor that is also able to execute python scripts. Sometimes it is called iPython notebook. Scripts are found in the grey cells (see below).  \n",
      "<br>\n",
      "    <font color=Blue>To execute a script, click the cell and the *play* button above.</font><br> \n",
      "Instead of the tringular *play* button at the top you can click in the cell and press Shift-Enter to run the code. Give it a try:</span>"
     ]
    },
    {
     "cell_type": "code",
     "collapsed": false,
     "input": [
      "print('\\x1b[31mHey \\x1b[32mthere. \\x1b[34mGood \\x1b[35mjob!\\x1b[0m')"
     ],
     "language": "python",
     "metadata": {},
     "outputs": [
      {
       "output_type": "stream",
       "stream": "stdout",
       "text": [
        "\u001b[31mHey \u001b[32mthere. \u001b[34mGood \u001b[35mjob!\u001b[0m\n"
       ]
      }
     ],
     "prompt_number": 1
    },
    {
     "cell_type": "markdown",
     "metadata": {},
     "source": [
      "<span style=\"color:black; font-family:Arial; font-size:1.3em;line-height: 2;\">Now try editing the code and re-running. Replace \"Good job\" with \"Even better job\"</span>"
     ]
    },
    {
     "cell_type": "code",
     "collapsed": false,
     "input": [
      "print('\\x1b[31mHey \\x1b[32mthere. \\x1b[34mGood \\x1b[35mjob!\\x1b[0m')"
     ],
     "language": "python",
     "metadata": {},
     "outputs": [
      {
       "output_type": "stream",
       "stream": "stdout",
       "text": [
        "\u001b[31mHey \u001b[32mthere. \u001b[34mGood \u001b[35mjob!\u001b[0m\n"
       ]
      }
     ],
     "prompt_number": 2
    },
    {
     "cell_type": "markdown",
     "metadata": {},
     "source": [
      "<span style=\"color:black; font-family:Arial; font-size:1.3em;line-height: 2;\">This iterative edit-and-run approach is how much of modern biological data is explored and analysed. This mix of code and explanation you are seeing in this Jupyter notebook is called \"literate programming\"</span>"
     ]
    },
    {
     "cell_type": "markdown",
     "metadata": {},
     "source": [
      "<span style=\"color:black; font-family:Arial; font-size:1.3em;line-height: 2;\"> \n",
      "This notebook will take you through the anaysis of the three case studies found in the practical handbook. It knows where to find the input files and the programs it needs to run so don't worry. To make this notebook concise, background information is excluded from it and only available in the practical handbook. For each case study you will need to run several cells just as you did above, a very easy task. The programs will then align and clean the sequences, build a tree and annotate it. <strong>In most cases you will only need to execute the cell as you did above. In a few cases you will be able to tweak the script just a bit following clear instructions</strong>. Good luck!</span><hr>"
     ]
    },
    {
     "cell_type": "markdown",
     "metadata": {},
     "source": [
      "<h1><font color='Purple'>Case study 1</font></h1>\n",
      "<h2><font color='DodgerBlue'>A New Species of Ape?</font></h2>\n",
      "<h3><font color='DodgerBlue'>Sequence alignment and trimming</font></h3>\n",
      "<span style=\"color:black; font-family:Arial; font-size:1.3em;line-height: 2;\">\n",
      "This section will analyse the primate nad5 sequences as described in case study 1 in the practical manual.</span>\n",
      " \n",
      "<ul style=\"list-style-type:circle;font-size:1.3em;line-height: 2;color:blue;\">\n",
      "  <li>Run the next cell as you did above, in order to align the sequences and to trim the alignment. Then view the alignments (raw and trimmed) that will open in new browser tabs.</li>\n",
      "  <li>Can you spot the differences between the raw alignment and the trimmed alignment?</li>\n",
      "  <li>Can you spot one sequence that is visibly different from all the others?</li>\n",
      "</ul>\n",
      "<span style=\"color:black; font-family:Arial; font-size:1.3em;line-height: 2;\">\n",
      "The process may take a minute or two. As it runs you will see the label <strong>Kernel busy</strong> on the top right hand side of the screen. There will be a warning about version control, its all fine, then (slowly) a new browser tab will be opened for you with the DNA sequence alignment in it. Explore.\n",
      "</span>"
     ]
    },
    {
     "cell_type": "code",
     "collapsed": false,
     "input": [
      "from practical import *\n",
      "import IPython.display as Id\n",
      "\n",
      "pj = cs1_make_clean_alignment()"
     ],
     "language": "python",
     "metadata": {},
     "outputs": [
      {
       "output_type": "stream",
       "stream": "stdout",
       "text": [
        "There are 21 sequences in the file\n",
        "\n"
       ]
      },
      {
       "output_type": "stream",
       "stream": "stdout",
       "text": [
        "Running this command to align the sequences:\n"
       ]
      },
      {
       "output_type": "stream",
       "stream": "stdout",
       "text": [
        ".\\programs\\mafft-win\\mafft 670221489415885.5_nd5.fasta\n",
        "\n"
       ]
      },
      {
       "output_type": "stream",
       "stream": "stdout",
       "text": [
        "Running this command to remove missing data:\n"
       ]
      },
      {
       "output_type": "stream",
       "stream": "stdout",
       "text": [
        ".\\programs\\trimAl\\bin\\trimal.exe -in 869651489415891.75_nd5@mafftDefault.fasta -gappyout\n",
        "\n"
       ]
      },
      {
       "output_type": "stream",
       "stream": "stdout",
       "text": [
        "\u001b[35mShowing the alignment and the cleaned alignment in new tabs\u001b[0m\n"
       ]
      },
      {
       "output_type": "stream",
       "stream": "stderr",
       "text": [
        "reprophylo.py:980: UserWarning: Version control off\n",
        "  warnings.warn('Version control off')\n"
       ]
      }
     ],
     "prompt_number": 3
    },
    {
     "cell_type": "markdown",
     "metadata": {},
     "source": [
      "<hr>\n",
      "<h3><font color='DodgerBlue'>Tree reconstruction</font></h3>\n",
      "<span style=\"color:black; font-family:Arial; font-size:1.3em;line-height: 2;\">\n",
      "This section will reconstruct a phylogenetic tree using the sequence alignment you have produced.</span>\n",
      " \n",
      "<ul style=\"list-style-type:circle;font-size:1.3em;line-height: 2;color:blue;\">\n",
      "  <li>Run the next cell to build the tree.</li>\n",
      "    <li>View the tree figure in the file <font color=red><b>primates_tree</b></font>.</li>\n",
      "  <li>Does it make sense? Think about the root of the tree.</li>\n",
      "</ul>\n"
     ]
    },
    {
     "cell_type": "code",
     "collapsed": false,
     "input": [
      "pj, fig_filename = cs1_build_tree(pj)\n",
      "#Id.Image(filename=fig_filename)"
     ],
     "language": "python",
     "metadata": {},
     "outputs": [
      {
       "output_type": "stream",
       "stream": "stdout",
       "text": [
        ".\\programs\\raxmlHPC_820_64.exe -f a -m GTRGAMMA -n 967171489416148.66_nd5@mafftDefault@gappyout0 -p 719 -s 967171489416148.66_nd5@mafftDefault@gappyout.fasta -x 237 -N 100\n"
       ]
      }
     ],
     "prompt_number": 4
    },
    {
     "cell_type": "markdown",
     "metadata": {},
     "source": [
      "<hr>\n",
      "<h3><font color='DodgerBlue'>Tree annotation</font></h3>\n",
      "<span style=\"color:black; font-family:Arial; font-size:1.3em;line-height: 2;\">\n",
      "Now we have a tree, but there are a few problems. First, it is not rooted correctly. We expect *Pan* to be monophyletic.  \n",
      "In addition, it would be nice to highlight the different genera so that the tree is clearer. The next cell will take care of the rooting and the colors.</span>\n",
      " \n",
      "<ul style=\"list-style-type:circle;font-size:1.3em;line-height: 2;color:blue;\">\n",
      "  <li>Specify an outgroup genus in the indicated place in the script</li>\n",
      "  <li>Change the species colours in the indicated place in the script</li>\n",
      "</ul>\n",
      "<span style=\"color:black; font-family:Arial; font-size:1.3em;line-height: 2;\">\n",
      "We would also like to see the branch support to know is the clades are trusted.\n",
      "</span>\n",
      "\n",
      "<ul style=\"list-style-type:circle;font-size:1.3em;line-height: 2;color:blue;\">\n",
      "  <li>Change the colours of the bullets and the support range they represent</li>\n",
      "</ul>\n",
      "\n",
      "<span style=\"color:black; font-family:Arial; font-size:1.3em;line-height: 2;\">\n",
      "You can see colour names [here](http://en.wikipedia.org/wiki/Web_colors#X11_color_names)\n",
      "</span>\n",
      "\n",
      "<ul style=\"list-style-type:circle;font-size:1.3em;line-height: 2;color:blue;\">\n",
      "  <li>Execute the cell.</li>\n",
      "    <li>Once you are happy with the result, look for the figure file in <font color=red><b>primates_tree</b></font> in the <u>phylo_pract_files</u> directory and copy it to someplace safe for your report.</li>\n",
      "</ul>"
     ]
    },
    {
     "cell_type": "code",
     "collapsed": false,
     "input": [
      "# This will determine which genus is the outgroup\n",
      "\n",
      "# Replace the word 'choose_genus' with 'Pongo', 'Pan' or 'Macaca'\n",
      "\n",
      "root_genus = \"choose_genus\"\n",
      "\n",
      "\n",
      "# This will colour the species\n",
      "# Change the colour names as you like.\n",
      "# Use the link above to see which colour names are accepted\n",
      "\n",
      "species = {\n",
      "          'Macaca fascicularis' : 'black' ,\n",
      "          \n",
      "          'Pan troglodytes' : 'black' ,\n",
      "          \n",
      "          'Pan paniscus' : 'red' ,\n",
      "          \n",
      "          'Pongo pygmaeus' : 'black',\n",
      "          \n",
      "          'Pongo abelii' : 'black'\n",
      "          \n",
      "          }\n",
      "\n",
      "# This will control the node support annotations:\n",
      "# You can change the colour names or the integers\n",
      "\n",
      "supports = {\n",
      "             'black' : [ 100 , 99 ] ,\n",
      "             \n",
      "             'dimgray' : [ 99 , 75 ] ,\n",
      "             \n",
      "             'silver' : [ 75 , 50 ] \n",
      "     \n",
      "           }\n",
      "\n",
      "\n",
      "# This will correct the root and will reprint the figure\n",
      "fig_filename = cs1_annotate_tree(pj, species, supports, root_genus)\n",
      "#Id.Image(filename=fig_filename)"
     ],
     "language": "python",
     "metadata": {},
     "outputs": [
      {
       "output_type": "stream",
       "stream": "stdout",
       "text": [
        "Writing the figure to phylo_pract_files/primates_tree.png\n"
       ]
      }
     ],
     "prompt_number": 6
    },
    {
     "cell_type": "markdown",
     "metadata": {},
     "source": [
      "<hr>\n",
      "<h3><font color='DodgerBlue'>Species differentiation</font></h3>\n",
      "<span style=\"color:black; font-family:Arial; font-size:1.3em;line-height: 2;\">\n",
      "Looking at the tree, it would seem the two *Pan* clades are as distant from each other as the two *Pongo* clades</span>\n",
      " \n",
      "<ul style=\"list-style-type:circle;font-size:1.3em;line-height: 2;color:blue;\">\n",
      "    <li>Run the following script. It will show the distribution of pairwise distances between each <i>Pongo pygmaeus</i> sample and each <i>Pongo abelii</i> sample . It will also show the distribution of pairwise distances between each <i>Pan paniscus</i> sample and each <i>Pan troglodytes</i> sample. The distributions will be presented as box plots in the file <font color=red><b>pairwise_tree_distances</b></font> </li> \n",
      "  <li>What can we learn from this?</li>\n",
      "  <li>Look for the figure file <u>pairwise_tree_distances.png</u> in the <u>phylo_pract_files</u> directory and copy it to someplace safe for your report.</li>\n",
      "</ul>\n"
     ]
    },
    {
     "cell_type": "code",
     "collapsed": false,
     "input": [
      "cs1_dist_matrix(pj)"
     ],
     "language": "python",
     "metadata": {},
     "outputs": [
      {
       "output_type": "stream",
       "stream": "stdout",
       "text": [
        "returning tree object nd5@mafftDefault@gappyout@fa\n"
       ]
      },
      {
       "output_type": "display_data",
       "png": "[encoded data removed]"
      }
     ],
     "prompt_number": 7
    },
    {
     "cell_type": "markdown",
     "metadata": {},
     "source": [
      "<hr>\n",
      "<h1><font color='Purple'>Case study 2</font></h1>\n",
      "<h2><font color='DodgerBlue'>WHAT ARE THE ORIGINS OF HIV?</font></h2>\n",
      "<h3><font color='DodgerBlue'>Sequence alignment and tree reconstruction</font></h3>\n",
      "<span style=\"color:black; font-family:Arial; font-size:1.3em;line-height: 2;\">\n",
      "To determine whether HIV has coevolved with humans or if it has a recent zoonotic origin, the next script will reconstruct a tree from HIV and SIV sequences and will produce three figures.\n",
      "\n",
      "**Figure 1**, file name <font color=red>HIVSIV_strains</font>: clades highlighted by virus **strain**  \n",
      "**Figure 2**, file name <font color=red>HIVSIV_range</font>: clades highlighted by **geographic range** of the host (or where the virus was isolated in case of human hosts)  \n",
      "**Figure 3**, file name <font color=red>HIVSIV_host</font>: clades highlighted by **host**.</span>\n",
      " \n",
      "<ul style=\"list-style-type:circle;font-size:1.3em;line-height: 2;color:blue;\">\n",
      "  <li>Begin by building the tree, do this by running the next cell. It will take 1-2 minutes, and only dispaly a vague warning at the end. You can check the progress at the bottom of this cell.</li>\n",
      "</ul>"
     ]
    },
    {
     "cell_type": "code",
     "collapsed": false,
     "input": [
      "from practical import *\n",
      "from IPython.display import Image\n",
      "\n",
      "pt = cs3_align_and_tree()"
     ],
     "language": "python",
     "metadata": {},
     "outputs": [
      {
       "output_type": "stream",
       "stream": "stdout",
       "text": [
        "Reading sequence alignmnet...\n"
       ]
      },
      {
       "output_type": "stream",
       "stream": "stdout",
       "text": [
        "\n",
        "Sorting metadata...\n"
       ]
      },
      {
       "output_type": "stream",
       "stream": "stdout",
       "text": [
        "\n",
        "Cleaning alignment...\n"
       ]
      },
      {
       "output_type": "stream",
       "stream": "stdout",
       "text": [
        ".\\programs\\trimAl\\bin\\trimal.exe -in 436931489416620.05_ENV@ReadDirectly.fasta -gappyout\n",
        "\n"
       ]
      },
      {
       "output_type": "stream",
       "stream": "stdout",
       "text": [
        "Reconstructing tree...\n"
       ]
      },
      {
       "output_type": "stream",
       "stream": "stdout",
       "text": [
        ".\\programs\\raxmlHPC_820_64.exe -f a -m GTRGAMMA -n 553111489416620.32_ENV@ReadDirectly@gappyout0 -p 657 -s 553111489416620.32_ENV@ReadDirectly@gappyout.fasta -x 775 -N 100\n",
        "Done"
       ]
      },
      {
       "output_type": "stream",
       "stream": "stdout",
       "text": [
        "\n"
       ]
      },
      {
       "output_type": "stream",
       "stream": "stderr",
       "text": [
        "reprophylo.py:1094: UserWarning: To get translations, add a feature manually\n",
        "  warnings.warn(\"To get translations, add a feature manually\")\n"
       ]
      }
     ],
     "prompt_number": 8
    },
    {
     "cell_type": "markdown",
     "metadata": {},
     "source": [
      "<h3><font color='DodgerBlue'>Now make the figure with OTUs highlighted by strain. This is almost instantaneous.</font></h3>\n"
     ]
    },
    {
     "cell_type": "code",
     "collapsed": false,
     "input": [
      "strains = {'HIV1M':'silver',\n",
      "          'HIV1N':'lightgray',\n",
      "          'HIV1O':'gray',\n",
      "          'HIV1P':'gainsboro',\n",
      "          'SIVcpzPts':'skyblue',\n",
      "          'SIVcpzPtt':'salmon',\n",
      "          'SIVgorGgg':'gold'}\n",
      "\n",
      "fig_filename = cs3_annotate_tree(pt, strains)\n",
      "#Id.Image(filename=fig_filename)"
     ],
     "language": "python",
     "metadata": {},
     "outputs": [
      {
       "output_type": "stream",
       "stream": "stdout",
       "text": [
        "returning tree object ENV@ReadDirectly@gappyout@fa\n",
        "Writing the image to ./phylo_pract_files/HIVSIV_strains.png\n"
       ]
      }
     ],
     "prompt_number": 9
    },
    {
     "cell_type": "markdown",
     "metadata": {},
     "source": [
      "<ul style=\"list-style-type:circle;font-size:1.3em;line-height: 2;color:blue;\">\n",
      "    <li>Remember to copy it from the <u>phylo_pract_files</u> directory for your report</li>\n",
      "</ul>\n",
      "\n",
      "\n",
      "<h3><font color='DodgerBlue'>Make a figure with highlighted geographic ranges</font></h3>"
     ]
    },
    {
     "cell_type": "code",
     "collapsed": false,
     "input": [
      "geo_ranges = {'Cameroon and Gabon':'salmon',\n",
      "              'Congo':'skyblue'}\n",
      "\n",
      "fig_filename = cs3_annotate_tree(pt, geo_ranges)\n",
      "#Id.Image(filename=fig_filename)"
     ],
     "language": "python",
     "metadata": {},
     "outputs": [
      {
       "output_type": "stream",
       "stream": "stdout",
       "text": [
        "returning tree object ENV@ReadDirectly@gappyout@fa\n",
        "Writing the image to ./phylo_pract_files/HIVSIV_range.png\n"
       ]
      }
     ],
     "prompt_number": 10
    },
    {
     "cell_type": "markdown",
     "metadata": {},
     "source": [
      "<ul style=\"list-style-type:circle;font-size:1.3em;line-height: 2;color:blue;\">\n",
      "  <li>Remember to copy it for your report</li>\n",
      "</ul>\n",
      "\n",
      "\n",
      "<h3><font color='DodgerBlue'>Make a figure with highlighted hosts</font></h3>"
     ]
    },
    {
     "cell_type": "code",
     "collapsed": false,
     "input": [
      "hosts =   {'human':'silver',\n",
      "          'Pan troglodytes schweinfurthii':'skyblue',\n",
      "          'Pan troglodytes troglodytes':'salmon',\n",
      "          'Gorilla gorilla gorilla':'gold'}\n",
      "\n",
      "fig_filename = cs3_annotate_tree(pt, hosts)\n",
      "#Id.Image(filename=fig_filename)"
     ],
     "language": "python",
     "metadata": {},
     "outputs": [
      {
       "output_type": "stream",
       "stream": "stdout",
       "text": [
        "returning tree object ENV@ReadDirectly@gappyout@fa\n",
        "Writing the image to ./phylo_pract_files/HIVSIV_host.png\n"
       ]
      }
     ],
     "prompt_number": 11
    },
    {
     "cell_type": "markdown",
     "metadata": {},
     "source": [
      "<ul style=\"list-style-type:circle;font-size:1.3em;line-height: 2;color:blue;\">\n",
      "  <li>Remember to copy it for your report</li>\n",
      "  <li>Which hypothesis does the tree support? Discuss this, and then present your conclusions to us as a check.</li>\n",
      "</ul>"
     ]
    },
    {
     "cell_type": "markdown",
     "metadata": {},
     "source": [
      "<hr>\n",
      "<h1><font color='Purple'>Case study 3</font></h1>\n",
      "<h2><font color='DodgerBlue'>DNA BARCODING AND BUTTERFLY BIODIVERSITY</font></h2>\n",
      "<h3><font color='DodgerBlue'>Sequence alignment and tree reconstruction</font></h3>\n",
      "<span style=\"color:black; font-family:Arial; font-size:1.3em;line-height: 2;\">\n",
      "Here we are going to rush through the analysis and then annotate the tree.</span>\n",
      " \n",
      "<ul style=\"list-style-type:circle;font-size:1.3em;line-height: 2;color:blue;\">\n",
      "  <li>Run the next cell to build the tree. It will take 1-2 minutes (see Kernel busy top right)</li>\n",
      "    <li>Look at the figure file in <font color=red>astraptes_tree</font> in the <u>phylo_pract_files</u> directory</li>\n",
      "</ul>"
     ]
    },
    {
     "cell_type": "code",
     "collapsed": false,
     "input": [
      "from practical import *\n",
      "import IPython.display as Id\n",
      "\n",
      "pr, fig_filename = cs2_align_and_tree()\n",
      "#Id.Image(filename=fig_filename)"
     ],
     "language": "python",
     "metadata": {},
     "outputs": [
      {
       "output_type": "stream",
       "stream": "stdout",
       "text": [
        "Reading data...\n"
       ]
      },
      {
       "output_type": "stream",
       "stream": "stdout",
       "text": [
        "\n",
        "There are 68 sequences in the file\n"
       ]
      },
      {
       "output_type": "stream",
       "stream": "stdout",
       "text": [
        "\n",
        "Sorting metadata...\n"
       ]
      },
      {
       "output_type": "stream",
       "stream": "stdout",
       "text": [
        "\n",
        "Aligning sequences...\n"
       ]
      },
      {
       "output_type": "stream",
       "stream": "stdout",
       "text": [
        "Running this command to align the sequences:\n"
       ]
      },
      {
       "output_type": "stream",
       "stream": "stdout",
       "text": [
        ".\\programs\\mafft-win\\mafft 535051489416938.18_coi.fasta\n",
        "\n"
       ]
      },
      {
       "output_type": "stream",
       "stream": "stdout",
       "text": [
        "Cleaning alignment...\n"
       ]
      },
      {
       "output_type": "stream",
       "stream": "stdout",
       "text": [
        "Running this command to remove missing data:\n"
       ]
      },
      {
       "output_type": "stream",
       "stream": "stdout",
       "text": [
        ".\\programs\\trimAl\\bin\\trimal.exe -in 437421489416941.25_coi@mafftDefault.fasta -gt 0.8\n",
        "\n"
       ]
      },
      {
       "output_type": "stream",
       "stream": "stdout",
       "text": [
        "Reconstructing tree using this command:\n"
       ]
      },
      {
       "output_type": "stream",
       "stream": "stdout",
       "text": [
        ".\\programs\\raxmlHPC_820_64.exe -f a -m GTRGAMMA -n 980851489416941.71_coi@mafftDefault@gt800 -p 581 -s 980851489416941.71_coi@mafftDefault@gt80.fasta -x 609 -N 100\n"
       ]
      }
     ],
     "prompt_number": 12
    },
    {
     "cell_type": "markdown",
     "metadata": {},
     "source": [
      "<span style=\"color:black; font-family:Arial; font-size:1.3em;line-height: 2;\">\n",
      "The leaf names correspond to putative species based on the plant the caterpillar feeds on or the adult pattern.</span>\n",
      "    \n",
      "<ul style=\"list-style-type:circle;font-size:1.3em;line-height: 2;color:blue;\">\n",
      "  <li>In the next cell, choose a colour for each morph</li>\n",
      "  <li>Find the figure file <font color=red>astraptes_tree.png</font> in the <u>phylo_pract_files</u> directory</li>\n",
      "</ul>\n",
      "\n"
     ]
    },
    {
     "cell_type": "code",
     "collapsed": false,
     "input": [
      "\n",
      "groups = {\n",
      "          'TRIGO' : 'LightSalmon' ,\n",
      "          \n",
      "          'HIHAMP' : 'Salmon' ,\n",
      "          \n",
      "          'YESENN' : 'DarkSalmon' ,\n",
      "          \n",
      "          'CELT' : 'LightCoral' ,\n",
      "          \n",
      "          'FABOV' : 'IndianRed' ,\n",
      "          \n",
      "          'INGCUP' : 'Crimson' ,\n",
      "          \n",
      "          'LONCHO' : 'FireBrick' ,\n",
      "          \n",
      "          'BYTTNER' : 'DarkRed' ,\n",
      "          \n",
      "          'SENNOV' : 'Red' ,\n",
      "          \n",
      "          'LOHAMP' : 'OrangeRed'\n",
      "          \n",
      "          }\n",
      "\n",
      "plants = {\n",
      "          'Trigonia' : 'LightSalmon' ,\n",
      "          \n",
      "          'Hampea' : 'Salmon' ,\n",
      "          \n",
      "          'Senna' : 'DarkSalmon' ,\n",
      "          \n",
      "          'Celtis' : 'LightCoral' ,\n",
      "          \n",
      "          'Inga or Cupania' : 'IndianRed' ,\n",
      "          \n",
      "          'Lonchocarpus' : 'Crimson' ,\n",
      "          \n",
      "          'Byttneria' : 'FireBrick' \n",
      "          \n",
      "          }\n",
      "\n",
      "# This will control the node support annotations:\n",
      "\n",
      "supports = {\n",
      "             'black' : [ 100 , 99 ] ,\n",
      "             \n",
      "             'dimgray' : [ 99 , 75 ] ,\n",
      "             \n",
      "             'silver' : [ 75 , 50 ] ,\n",
      "             \n",
      "             'gainsboro' : [ 50 , 30 ]\n",
      "     \n",
      "           }\n",
      "\n",
      "# You can choose whether to color the labels by groups with the 'group' assignment\n",
      "# or with plants, with the 'plant' assignment, also change groups to plants below\n",
      "fig_filename = cs2_annotate_tree(pr, 'group', groups, supports)\n",
      "#Id.Image(filename=fig_filename)"
     ],
     "language": "python",
     "metadata": {},
     "outputs": [
      {
       "output_type": "stream",
       "stream": "stdout",
       "text": [
        "Writing the figure to phylo_pract_files/astraptes_tree.png\n"
       ]
      }
     ],
     "prompt_number": 16
    },
    {
     "cell_type": "markdown",
     "metadata": {},
     "source": [
      "<span style=\"color:black; font-family:Arial; font-size:1.3em;line-height: 2;\">\n",
      "We do not have an outgroup so the tree is rooted at the midpoint. It should be regarded as unrooted.</span>\n",
      "\n",
      "<ul style=\"list-style-type:circle;font-size:1.3em;line-height: 2;color:blue;\">    \n",
      "  <li>Can the groups be regarded as monophyletic?</li>\n",
      "  <li>Can we be sure of the monophyly of any group?</li>\n",
      "  <li>Save the file someplace safe for your report</li>\n",
      "</ul>\n",
      "<h1><font color='Purple'>All Done!</font></h1>"
     ]
    },
    {
     "cell_type": "code",
     "collapsed": false,
     "input": [],
     "language": "python",
     "metadata": {},
     "outputs": []
    }
   ],
   "metadata": {}
  }
 ]
}